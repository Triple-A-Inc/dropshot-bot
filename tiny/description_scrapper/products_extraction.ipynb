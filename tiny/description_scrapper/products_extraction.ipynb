{
 "cells": [
  {
   "cell_type": "code",
   "execution_count": 1,
   "id": "fd53ace2-114c-4f4a-bb9b-6e4525e3a2cf",
   "metadata": {},
   "outputs": [],
   "source": [
    "import pandas as pd\n",
    "import os"
   ]
  },
  {
   "cell_type": "code",
   "execution_count": 2,
   "id": "4fe5939c-40f7-4e44-bd29-88bcb51776cd",
   "metadata": {},
   "outputs": [],
   "source": [
    "folder_path = 'dropshot_items'\n",
    "csv_files = [f for f in os.listdir(folder_path) if f.endswith('.csv')]"
   ]
  },
  {
   "cell_type": "code",
   "execution_count": 13,
   "id": "92ae8976-7a91-4f5a-8b1e-e00a2e8c924a",
   "metadata": {},
   "outputs": [],
   "source": [
    "columns = ['ID', 'Descrição', 'Preço', 'Estoque', 'Descrição complementar']\n",
    "\n",
    "df = pd.DataFrame(columns=columns)\n",
    "for file_name in csv_files:\n",
    "    file_path = f'{folder_path}/{file_name}'\n",
    "    temp_df = pd.read_csv(file_path)\n",
    "    temp_df = temp_df[columns]\n",
    "    temp_df = temp_df.drop_duplicates(subset=['Descrição complementar']).dropna(subset=['Descrição complementar'])\n",
    "    df = pd.concat([df, temp_df], ignore_index=True)"
   ]
  },
  {
   "cell_type": "code",
   "execution_count": 14,
   "id": "4fbd9bd2-6458-4e7c-b447-b5d873ecc013",
   "metadata": {},
   "outputs": [],
   "source": [
    "df = df.drop_duplicates(subset=['Descrição complementar'])"
   ]
  },
  {
   "cell_type": "code",
   "execution_count": 15,
   "id": "c572e56a-f938-4c47-ba11-072997969c92",
   "metadata": {},
   "outputs": [
    {
     "data": {
      "text/plain": [
       "86"
      ]
     },
     "execution_count": 15,
     "metadata": {},
     "output_type": "execute_result"
    }
   ],
   "source": [
    "prods_com_estoque = len(df) - len(df[df['Estoque'] == '0,0000'])\n",
    "prods_com_estoque"
   ]
  },
  {
   "cell_type": "code",
   "execution_count": 16,
   "id": "22368147-1111-43c7-90ea-16a39ab2e0ac",
   "metadata": {},
   "outputs": [
    {
     "data": {
      "text/html": [
       "<div>\n",
       "<style scoped>\n",
       "    .dataframe tbody tr th:only-of-type {\n",
       "        vertical-align: middle;\n",
       "    }\n",
       "\n",
       "    .dataframe tbody tr th {\n",
       "        vertical-align: top;\n",
       "    }\n",
       "\n",
       "    .dataframe thead th {\n",
       "        text-align: right;\n",
       "    }\n",
       "</style>\n",
       "<table border=\"1\" class=\"dataframe\">\n",
       "  <thead>\n",
       "    <tr style=\"text-align: right;\">\n",
       "      <th></th>\n",
       "      <th>ID</th>\n",
       "      <th>Descrição</th>\n",
       "      <th>Preço</th>\n",
       "      <th>Estoque</th>\n",
       "      <th>Descrição complementar</th>\n",
       "    </tr>\n",
       "  </thead>\n",
       "  <tbody>\n",
       "    <tr>\n",
       "      <th>0</th>\n",
       "      <td>801552263</td>\n",
       "      <td>Agasalho DROP SHOT AIRAM JMD</td>\n",
       "      <td>899,9000000000</td>\n",
       "      <td>0,0000</td>\n",
       "      <td>&lt;p&gt;&lt;span style=\"font-size: 10pt;\"&gt;&lt;strong&gt;AGAS...</td>\n",
       "    </tr>\n",
       "    <tr>\n",
       "      <th>1</th>\n",
       "      <td>757182060</td>\n",
       "      <td>Agasalho DROP SHOT KOA JMD</td>\n",
       "      <td>899,9000000000</td>\n",
       "      <td>0,0000</td>\n",
       "      <td>&lt;p&gt;&lt;strong&gt;Agasalho DROP SHOT KOA JMD&lt;/strong&gt;...</td>\n",
       "    </tr>\n",
       "    <tr>\n",
       "      <th>2</th>\n",
       "      <td>757182154</td>\n",
       "      <td>Agasalho DROP SHOT NAOS</td>\n",
       "      <td>594,9000000000</td>\n",
       "      <td>0,0000</td>\n",
       "      <td>&lt;p&gt;&lt;strong&gt;AGASALHO DROP SHOT NAOS&lt;/strong&gt;&lt;/p...</td>\n",
       "    </tr>\n",
       "    <tr>\n",
       "      <th>3</th>\n",
       "      <td>865791149</td>\n",
       "      <td>Babylook DROP SHOT AMBITION</td>\n",
       "      <td>159,9000000000</td>\n",
       "      <td>0,0000</td>\n",
       "      <td>&lt;p&gt;&lt;strong&gt;Babylook Drop Shot Ambition&lt;/strong...</td>\n",
       "    </tr>\n",
       "    <tr>\n",
       "      <th>4</th>\n",
       "      <td>757279528</td>\n",
       "      <td>Babylook DROP SHOT ENJOY</td>\n",
       "      <td>129,9000000000</td>\n",
       "      <td>0,0000</td>\n",
       "      <td>&lt;p&gt;&lt;strong&gt;Babylook DROP SHOT ENJOY&lt;/strong&gt;&lt;/...</td>\n",
       "    </tr>\n",
       "    <tr>\n",
       "      <th>...</th>\n",
       "      <td>...</td>\n",
       "      <td>...</td>\n",
       "      <td>...</td>\n",
       "      <td>...</td>\n",
       "      <td>...</td>\n",
       "    </tr>\n",
       "    <tr>\n",
       "      <th>631</th>\n",
       "      <td>757218136</td>\n",
       "      <td>Viseira DROP SHOT Importada Roxa</td>\n",
       "      <td>99,9000000000</td>\n",
       "      <td>0,0000</td>\n",
       "      <td>&lt;p&gt;&lt;strong&gt;Viseira DROP SHOT Importada Roxa&lt;/s...</td>\n",
       "    </tr>\n",
       "    <tr>\n",
       "      <th>632</th>\n",
       "      <td>757252343</td>\n",
       "      <td>Viseira Drop Shot Importada Vermelha</td>\n",
       "      <td>99,9000000000</td>\n",
       "      <td>0,0000</td>\n",
       "      <td>&lt;p&gt;&lt;strong&gt;Viseira Drop Shot Importada Vermelh...</td>\n",
       "    </tr>\n",
       "    <tr>\n",
       "      <th>633</th>\n",
       "      <td>862167861</td>\n",
       "      <td>Viseira DROP SHOT NICOLE 3.0</td>\n",
       "      <td>89,9000000000</td>\n",
       "      <td>0,0000</td>\n",
       "      <td>&lt;p&gt;&lt;strong&gt;Viseira Drop Shot Nicole 3.0&lt;/stron...</td>\n",
       "    </tr>\n",
       "    <tr>\n",
       "      <th>634</th>\n",
       "      <td>757248346</td>\n",
       "      <td>﻿Tênis DROP SHOT XCELERATOR XTW</td>\n",
       "      <td>649,9000000000</td>\n",
       "      <td>0,0000</td>\n",
       "      <td>&lt;p&gt;&lt;strong&gt;Tênis de Padel DROP SHOT XCELERATOR...</td>\n",
       "    </tr>\n",
       "    <tr>\n",
       "      <th>635</th>\n",
       "      <td>757214337</td>\n",
       "      <td>﻿﻿Casaco Quebra Vento DROP SHOT 1.0</td>\n",
       "      <td>319,9000000000</td>\n",
       "      <td>0,0000</td>\n",
       "      <td>&lt;p&gt;&lt;strong&gt;Quebra Vento &lt;/strong&gt;&lt;strong&gt;DROP ...</td>\n",
       "    </tr>\n",
       "  </tbody>\n",
       "</table>\n",
       "<p>630 rows × 5 columns</p>\n",
       "</div>"
      ],
      "text/plain": [
       "            ID                             Descrição           Preço Estoque  \\\n",
       "0    801552263          Agasalho DROP SHOT AIRAM JMD  899,9000000000  0,0000   \n",
       "1    757182060            Agasalho DROP SHOT KOA JMD  899,9000000000  0,0000   \n",
       "2    757182154               Agasalho DROP SHOT NAOS  594,9000000000  0,0000   \n",
       "3    865791149           Babylook DROP SHOT AMBITION  159,9000000000  0,0000   \n",
       "4    757279528             Babylook DROP SHOT ENJOY   129,9000000000  0,0000   \n",
       "..         ...                                   ...             ...     ...   \n",
       "631  757218136      Viseira DROP SHOT Importada Roxa   99,9000000000  0,0000   \n",
       "632  757252343  Viseira Drop Shot Importada Vermelha   99,9000000000  0,0000   \n",
       "633  862167861          Viseira DROP SHOT NICOLE 3.0   89,9000000000  0,0000   \n",
       "634  757248346       ﻿Tênis DROP SHOT XCELERATOR XTW  649,9000000000  0,0000   \n",
       "635  757214337   ﻿﻿Casaco Quebra Vento DROP SHOT 1.0  319,9000000000  0,0000   \n",
       "\n",
       "                                Descrição complementar  \n",
       "0    <p><span style=\"font-size: 10pt;\"><strong>AGAS...  \n",
       "1    <p><strong>Agasalho DROP SHOT KOA JMD</strong>...  \n",
       "2    <p><strong>AGASALHO DROP SHOT NAOS</strong></p...  \n",
       "3    <p><strong>Babylook Drop Shot Ambition</strong...  \n",
       "4    <p><strong>Babylook DROP SHOT ENJOY</strong></...  \n",
       "..                                                 ...  \n",
       "631  <p><strong>Viseira DROP SHOT Importada Roxa</s...  \n",
       "632  <p><strong>Viseira Drop Shot Importada Vermelh...  \n",
       "633  <p><strong>Viseira Drop Shot Nicole 3.0</stron...  \n",
       "634  <p><strong>Tênis de Padel DROP SHOT XCELERATOR...  \n",
       "635  <p><strong>Quebra Vento </strong><strong>DROP ...  \n",
       "\n",
       "[630 rows x 5 columns]"
      ]
     },
     "execution_count": 16,
     "metadata": {},
     "output_type": "execute_result"
    }
   ],
   "source": [
    "df"
   ]
  },
  {
   "cell_type": "code",
   "execution_count": 17,
   "id": "215c02ba-9a50-42af-95b5-252c14d98dd3",
   "metadata": {},
   "outputs": [],
   "source": [
    "df.to_csv('no_estoque.csv', index=False)"
   ]
  },
  {
   "cell_type": "code",
   "execution_count": 18,
   "id": "126428ed-68e7-4c91-bbb0-70346ab28529",
   "metadata": {},
   "outputs": [],
   "source": [
    "df[df['Estoque'] != '0,0000'].to_csv('with_estoque.csv', index=False)"
   ]
  },
  {
   "cell_type": "code",
   "execution_count": null,
   "id": "cc82f334-b70a-41bc-8938-f38bc5b73744",
   "metadata": {},
   "outputs": [],
   "source": []
  }
 ],
 "metadata": {
  "kernelspec": {
   "display_name": "Python 3 (ipykernel)",
   "language": "python",
   "name": "python3"
  },
  "language_info": {
   "codemirror_mode": {
    "name": "ipython",
    "version": 3
   },
   "file_extension": ".py",
   "mimetype": "text/x-python",
   "name": "python",
   "nbconvert_exporter": "python",
   "pygments_lexer": "ipython3",
   "version": "3.12.2"
  }
 },
 "nbformat": 4,
 "nbformat_minor": 5
}
